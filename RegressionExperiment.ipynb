{
 "cells": [
  {
   "cell_type": "code",
   "execution_count": 14,
   "metadata": {},
   "outputs": [
    {
     "data": {
      "image/png": "[encoded data removed]",
      "text/plain": [
       "<matplotlib.figure.Figure at 0x2b6835a7c50>"
      ]
     },
     "metadata": {},
     "output_type": "display_data"
    }
   ],
   "source": [
    "from sklearn.datasets import load_svmlight_file\n",
    "from sklearn.model_selection import train_test_split\n",
    "import matplotlib.pyplot as plt\n",
    "import numpy as np\n",
    "%matplotlib inline\n",
    "\n",
    "def get_data():\n",
    "    data = load_svmlight_file('./Housing.txt') \n",
    "    return data[0],data[1]\n",
    "\n",
    "def  split_data(x,y):\n",
    "    X_train, X_validate, Y_train, Y_validate = train_test_split(x,y,test_size=0.2)\n",
    "    return X_train, X_validate, Y_train, Y_validate\n",
    "\n",
    "# compute loss\n",
    "def loss(w,b,data,label,num):\n",
    "    b = np.ones((num,1))*b\n",
    "    totalLoss = (label-data*np.transpose(w)-b)**2\n",
    "    totalLoss = np.sum(totalLoss/2,axis= 0)\n",
    "    totalLoss = totalLoss / float(data.shape[0])\n",
    "    return totalLoss\n",
    "\n",
    "# compute gradient and optimizer w and b\n",
    "def optimizer(data,label,w_current,b_current,learning_rate,num):\n",
    "    #w_gradient应该是样本数*维度数\n",
    "    b = np.ones((num,1))*b_current\n",
    "    w_gradient = -1/num * (np.transpose(label-data*np.transpose(w_current)-b))*data\n",
    "    #w_gradient = np.sum(w_gradient,axis=0)\n",
    "    b_gradient = -1/num *(label-data*np.transpose(w_current)-b)\n",
    "    b_gradient = np.sum(b_gradient,axis=0)\n",
    "    new_b = b_current - (learning_rate * b_gradient)\n",
    "    new_w = w_current - (learning_rate * w_gradient)\n",
    "    return new_w,new_b\n",
    "\n",
    "\n",
    "# read and split data\n",
    "X,Y = get_data()\n",
    "Y = Y.reshape((len(Y),1))\n",
    "X_train, X_validate, Y_train, Y_validate = split_data(X,Y)\n",
    "\n",
    "# some related numbers\n",
    "features_num = X.shape[1]\n",
    "train_num = Y_train.shape[0]\n",
    "validate_num = Y_validate.shape[0]\n",
    "\n",
    "train_loss = []\n",
    "validate_loss = []\n",
    "\n",
    "# initialize w and other parameters\n",
    "w = np.zeros((1,features_num))\n",
    "b = 0\n",
    "learning_rate = 0.01\n",
    "iterations = 500\n",
    "\n",
    "# record loss of train and validate date\n",
    "for i in range(iterations):\n",
    "    train_loss.append(loss(w,b,X_train,Y_train,train_num))\n",
    "    validate_loss.append(loss(w,b,X_validate,Y_validate,validate_num))\n",
    "    w,b = optimizer(X_train,Y_train,w,b,learning_rate,train_num)\n",
    "\n",
    "# plot\n",
    "fig, ax = plt.subplots()\n",
    "train_loss_line = ax.plot(range(iterations),train_loss,label='Train_loss')\n",
    "validate_loss_line = ax.plot(range(iterations),validate_loss,label='Validate_loss')\n",
    "plt.legend()\n",
    "ax.set(xlabel='Epoch',ylabel='Loss')\n",
    "plt.show()\n",
    "  "
   ]
  },
  {
   "cell_type": "code",
   "execution_count": null,
   "metadata": {
    "collapsed": true
   },
   "outputs": [],
   "source": []
  }
 ],
 "metadata": {
  "kernelspec": {
   "display_name": "Python 3",
   "language": "python",
   "name": "python3"
  },
  "language_info": {
   "codemirror_mode": {
    "name": "ipython",
    "version": 3
   },
   "file_extension": ".py",
   "mimetype": "text/x-python",
   "name": "python",
   "nbconvert_exporter": "python",
   "pygments_lexer": "ipython3",
   "version": "3.6.3"
  }
 },
 "nbformat": 4,
 "nbformat_minor": 2
}
