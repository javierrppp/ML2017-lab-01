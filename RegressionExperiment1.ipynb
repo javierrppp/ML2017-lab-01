{
 "cells": [
  {
   "cell_type": "code",
   "execution_count": 1,
   "metadata": {},
   "outputs": [
    {
     "data": {
      "image/png": "[encoded data removed]",
      "text/plain": [
       "<matplotlib.figure.Figure at 0x21d26a2da20>"
      ]
     },
     "metadata": {},
     "output_type": "display_data"
    }
   ],
   "source": [
    "import numpy as np \n",
    "import scipy  \n",
    "import matplotlib.pyplot as plt\n",
    "%matplotlib inline\n",
    "from sklearn.datasets import load_svmlight_file\n",
    "from sklearn.model_selection import train_test_split\n",
    "\n",
    "def h(w,X):\n",
    "    return X.dot(w)\n",
    "\n",
    "def error(w,X,Y):\n",
    "    return h(w,X) - Y\n",
    "\n",
    "def L(w,X,Y,lamda = 0.0):\n",
    "    num_records,num_features  = np.shape(X)  \n",
    "    e = error(w,X,Y)\n",
    "    regulation_loss = 1.0/2 * lamda * w.transpose().dot(w)\n",
    "    loss = 1.0/2 * 1.0/float(num_records) * e.transpose().dot(e)\\\n",
    "        + regulation_loss\n",
    "    return loss[0][0]\n",
    "\n",
    "def g(w,X,Y,lamda = 0.0):\n",
    "    num_records,num_features  = np.shape(X)  \n",
    "    \n",
    "    # L2 norm\n",
    "    return 1.0/num_records * X.transpose().dot(error(w,X,Y)) \\\n",
    "            + lamda * w\n",
    "\n",
    "data = load_svmlight_file(\"./Housing.txt\")\n",
    "# add interception\n",
    "X = scipy.sparse.hstack(\\\n",
    "    (scipy.sparse.csr_matrix(np.ones((len(data[1]),1))),data[0]))\n",
    "Y = data[1].reshape((len(data[1]),1))\n",
    "\n",
    "num_records,num_features  = np.shape(X) \n",
    "\n",
    "X_train, X_test, Y_train, Y_test = train_test_split(\\\n",
    "X, Y, test_size=0.33,random_state=42)\n",
    "Y_train = Y_train.reshape((len(Y_train),1))\n",
    "Y_test = Y_test.reshape((len(Y_test),1))\n",
    "\n",
    "# initialize w\n",
    "w = np.random.normal(size=(num_features,1))\n",
    "\n",
    "lamda = 0.5\n",
    "eta = 0.05\n",
    "loss_train = []\n",
    "loss_test = []\n",
    "max_iterate = 30\n",
    "for epoch in range(max_iterate):\n",
    "    #print(\"epoch:\",epoch)\n",
    "    loss_train.append(L(w,X_train,Y_train,lamda))\n",
    "    loss_test.append(L(w,X_test,Y_test,lamda))\n",
    "    w = w - eta * g(w,X_train,Y_train,lamda)\n",
    "    \n",
    "fig, ax = plt.subplots()\n",
    "train_loss_line = ax.plot(range(max_iterate),loss_train,label='train loss')\n",
    "test_loss_line = ax.plot(range(max_iterate),loss_test,label='test loss')\n",
    "plt.legend()\n",
    "ax.set(xlabel='Epoch', ylabel='Loss with l2 norm')\n",
    "plt.show()"
   ]
  }
 ],
 "metadata": {
  "kernelspec": {
   "display_name": "Python 3",
   "language": "python",
   "name": "python3"
  },
  "language_info": {
   "codemirror_mode": {
    "name": "ipython",
    "version": 3
   },
   "file_extension": ".py",
   "mimetype": "text/x-python",
   "name": "python",
   "nbconvert_exporter": "python",
   "pygments_lexer": "ipython3",
   "version": "3.6.3"
  }
 },
 "nbformat": 4,
 "nbformat_minor": 2
}
